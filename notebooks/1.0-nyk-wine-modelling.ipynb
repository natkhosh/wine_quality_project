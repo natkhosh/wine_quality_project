{
 "cells": [
  {
   "cell_type": "markdown",
   "id": "appropriate-james",
   "metadata": {},
   "source": [
    "<p style=\"align: center;\"><img align=center src=\"https://netology.ru/backend/tilda/images/tild3439-3364-4535-b334-656263633534__main.svg\"  width=900></p>\n",
    "<h2 style=\"text-align: center;\"><b>Анализ данных по методологии CrispDM</b></h2>"
   ]
  },
  {
   "cell_type": "markdown",
   "id": "unsigned-grammar",
   "metadata": {},
   "source": [
    "# 2. Подготовка данных\n",
    "## 2.1 Импорт библиотек"
   ]
  },
  {
   "cell_type": "code",
   "execution_count": 1,
   "id": "flying-passage",
   "metadata": {},
   "outputs": [],
   "source": [
    "import numpy as np\n",
    "import pandas as pd\n",
    "import matplotlib.pyplot as plt\n",
    "import seaborn as sns\n",
    "\n",
    "from imblearn.over_sampling import SMOTE\n",
    "\n",
    "from sklearn.metrics import accuracy_score\n",
    "from sklearn.metrics import classification_report\n",
    "from sklearn.ensemble import RandomForestClassifier\n",
    "from sklearn.tree import DecisionTreeClassifier\n",
    "from sklearn.linear_model import LogisticRegression\n",
    "from sklearn.ensemble import StackingClassifier\n",
    "from sklearn.neighbors import KNeighborsClassifier\n",
    "from sklearn.cluster import DBSCAN\n",
    "from sklearn.metrics import confusion_matrix, classification_report\n",
    "from sklearn.preprocessing import MinMaxScaler\n",
    "from sklearn.model_selection import train_test_split\n",
    "\n",
    "# # Ignore warnings\n",
    "import warnings\n",
    "warnings.filterwarnings('ignore')\n",
    "\n",
    "#увеличим дефолтный размер графиков\n",
    "from pylab import rcParams\n",
    "rcParams['figure.figsize'] = 10,6"
   ]
  },
  {
   "cell_type": "code",
   "execution_count": 2,
   "id": "tired-magnet",
   "metadata": {},
   "outputs": [],
   "source": [
    "import os\n",
    "import sys\n",
    "\n",
    "sys.path.insert(0, '..')"
   ]
  },
  {
   "cell_type": "code",
   "execution_count": 3,
   "id": "second-correction",
   "metadata": {},
   "outputs": [],
   "source": [
    "from scripts.data.util import load_dataset, save_dataset"
   ]
  },
  {
   "cell_type": "code",
   "execution_count": 4,
   "id": "unavailable-worker",
   "metadata": {},
   "outputs": [],
   "source": [
    "from scripts.data.util import save_model"
   ]
  },
  {
   "cell_type": "markdown",
   "id": "moving-provincial",
   "metadata": {},
   "source": [
    "# 3. Моделирование"
   ]
  },
  {
   "cell_type": "markdown",
   "id": "unable-astronomy",
   "metadata": {},
   "source": [
    "## 3.1 Загрузка данных"
   ]
  },
  {
   "cell_type": "code",
   "execution_count": 5,
   "id": "transparent-monaco",
   "metadata": {},
   "outputs": [
    {
     "data": {
      "text/plain": [
       "(19838, 13)"
      ]
     },
     "execution_count": 5,
     "metadata": {},
     "output_type": "execute_result"
    }
   ],
   "source": [
    "wine = load_dataset(\"prep_data.csv\", 'intermid')\n",
    "wine.shape"
   ]
  },
  {
   "cell_type": "code",
   "execution_count": 6,
   "id": "apart-parking",
   "metadata": {},
   "outputs": [
    {
     "data": {
      "text/html": [
       "<div>\n",
       "<style scoped>\n",
       "    .dataframe tbody tr th:only-of-type {\n",
       "        vertical-align: middle;\n",
       "    }\n",
       "\n",
       "    .dataframe tbody tr th {\n",
       "        vertical-align: top;\n",
       "    }\n",
       "\n",
       "    .dataframe thead th {\n",
       "        text-align: right;\n",
       "    }\n",
       "</style>\n",
       "<table border=\"1\" class=\"dataframe\">\n",
       "  <thead>\n",
       "    <tr style=\"text-align: right;\">\n",
       "      <th></th>\n",
       "      <th>type</th>\n",
       "      <th>fixed acidity</th>\n",
       "      <th>volatile acidity</th>\n",
       "      <th>citric acid</th>\n",
       "      <th>residual sugar</th>\n",
       "      <th>chlorides</th>\n",
       "      <th>free sulfur dioxide</th>\n",
       "      <th>total sulfur dioxide</th>\n",
       "      <th>density</th>\n",
       "      <th>pH</th>\n",
       "      <th>sulphates</th>\n",
       "      <th>alcohol</th>\n",
       "    </tr>\n",
       "  </thead>\n",
       "  <tbody>\n",
       "    <tr>\n",
       "      <th>0</th>\n",
       "      <td>1.0</td>\n",
       "      <td>0.264463</td>\n",
       "      <td>0.126667</td>\n",
       "      <td>0.292683</td>\n",
       "      <td>0.648387</td>\n",
       "      <td>0.059801</td>\n",
       "      <td>0.302405</td>\n",
       "      <td>0.454924</td>\n",
       "      <td>0.598965</td>\n",
       "      <td>0.217054</td>\n",
       "      <td>0.130682</td>\n",
       "      <td>0.115942</td>\n",
       "    </tr>\n",
       "    <tr>\n",
       "      <th>1</th>\n",
       "      <td>1.0</td>\n",
       "      <td>0.206612</td>\n",
       "      <td>0.146667</td>\n",
       "      <td>0.276423</td>\n",
       "      <td>0.032258</td>\n",
       "      <td>0.066445</td>\n",
       "      <td>0.089347</td>\n",
       "      <td>0.349515</td>\n",
       "      <td>0.297111</td>\n",
       "      <td>0.449612</td>\n",
       "      <td>0.153409</td>\n",
       "      <td>0.217391</td>\n",
       "    </tr>\n",
       "  </tbody>\n",
       "</table>\n",
       "</div>"
      ],
      "text/plain": [
       "   type  fixed acidity  volatile acidity  citric acid  residual sugar  \\\n",
       "0   1.0       0.264463          0.126667     0.292683        0.648387   \n",
       "1   1.0       0.206612          0.146667     0.276423        0.032258   \n",
       "\n",
       "   chlorides  free sulfur dioxide  total sulfur dioxide   density        pH  \\\n",
       "0   0.059801             0.302405              0.454924  0.598965  0.217054   \n",
       "1   0.066445             0.089347              0.349515  0.297111  0.449612   \n",
       "\n",
       "   sulphates   alcohol  \n",
       "0   0.130682  0.115942  \n",
       "1   0.153409  0.217391  "
      ]
     },
     "execution_count": 6,
     "metadata": {},
     "output_type": "execute_result"
    }
   ],
   "source": [
    "X = wine[wine.columns[:-1]]\n",
    "X.head(2)"
   ]
  },
  {
   "cell_type": "code",
   "execution_count": 7,
   "id": "raising-midwest",
   "metadata": {},
   "outputs": [
    {
     "data": {
      "text/plain": [
       "0    6\n",
       "1    6\n",
       "Name: quality, dtype: int64"
      ]
     },
     "execution_count": 7,
     "metadata": {},
     "output_type": "execute_result"
    }
   ],
   "source": [
    "y = wine['quality']\n",
    "y.head(2)"
   ]
  },
  {
   "cell_type": "markdown",
   "id": "dramatic-conditioning",
   "metadata": {},
   "source": [
    "### 3.2 Создание датасетов"
   ]
  },
  {
   "cell_type": "code",
   "execution_count": 8,
   "id": "better-feeling",
   "metadata": {},
   "outputs": [],
   "source": [
    "X_train, X_test, y_train, y_test = train_test_split(X, y, test_size=0.2, random_state=42)"
   ]
  },
  {
   "cell_type": "markdown",
   "id": "painted-stupid",
   "metadata": {},
   "source": [
    "### 3.3 Выбор модели\n",
    "\n",
    "Будем строить несколько моделей:\n",
    "\n",
    "    - Logistic Regression\n",
    "    - Decision Tree Classifier\n",
    "    - Random Forest Classifier\n",
    "    - Stacking Classifier"
   ]
  },
  {
   "cell_type": "markdown",
   "id": "sufficient-intelligence",
   "metadata": {},
   "source": [
    "### 3.4 Обучение моделей"
   ]
  },
  {
   "cell_type": "markdown",
   "id": "mathematical-rugby",
   "metadata": {},
   "source": [
    "#### Logistic Regression"
   ]
  },
  {
   "cell_type": "code",
   "execution_count": 9,
   "id": "usual-receptor",
   "metadata": {},
   "outputs": [],
   "source": [
    "lr = LogisticRegression()\n",
    "lr.fit(X_train, y_train)\n",
    "y_pred_lr = lr.predict(X_test)"
   ]
  },
  {
   "cell_type": "code",
   "execution_count": 10,
   "id": "atlantic-calgary",
   "metadata": {},
   "outputs": [
    {
     "name": "stdout",
     "output_type": "stream",
     "text": [
      "              precision    recall  f1-score   support\n",
      "\n",
      "           3       0.47      0.41      0.44       571\n",
      "           4       0.47      0.51      0.49       550\n",
      "           5       0.41      0.48      0.45       560\n",
      "           6       0.37      0.24      0.29       573\n",
      "           7       0.36      0.28      0.31       540\n",
      "           8       0.46      0.46      0.46       609\n",
      "           9       0.70      1.00      0.82       565\n",
      "\n",
      "    accuracy                           0.48      3968\n",
      "   macro avg       0.46      0.48      0.47      3968\n",
      "weighted avg       0.46      0.48      0.47      3968\n",
      "\n"
     ]
    }
   ],
   "source": [
    "print(classification_report(y_test, y_pred_lr))"
   ]
  },
  {
   "cell_type": "markdown",
   "id": "reasonable-vegetable",
   "metadata": {},
   "source": [
    "#### Decision Tree Classifier"
   ]
  },
  {
   "cell_type": "code",
   "execution_count": 11,
   "id": "proud-dance",
   "metadata": {},
   "outputs": [],
   "source": [
    "dt = DecisionTreeClassifier()\n",
    "dt.fit(X_train, y_train)\n",
    "pred_dt = dt.predict(X_test)"
   ]
  },
  {
   "cell_type": "code",
   "execution_count": 12,
   "id": "assigned-village",
   "metadata": {},
   "outputs": [
    {
     "name": "stdout",
     "output_type": "stream",
     "text": [
      "              precision    recall  f1-score   support\n",
      "\n",
      "           3       0.97      0.97      0.97       571\n",
      "           4       0.89      0.89      0.89       550\n",
      "           5       0.69      0.73      0.71       560\n",
      "           6       0.62      0.56      0.59       573\n",
      "           7       0.74      0.77      0.76       540\n",
      "           8       0.90      0.92      0.91       609\n",
      "           9       0.99      1.00      1.00       565\n",
      "\n",
      "    accuracy                           0.83      3968\n",
      "   macro avg       0.83      0.83      0.83      3968\n",
      "weighted avg       0.83      0.83      0.83      3968\n",
      "\n"
     ]
    }
   ],
   "source": [
    "print(classification_report(y_test, pred_dt))"
   ]
  },
  {
   "cell_type": "markdown",
   "id": "threatened-complement",
   "metadata": {},
   "source": [
    "#### Random Forest Classifier"
   ]
  },
  {
   "cell_type": "code",
   "execution_count": 13,
   "id": "connected-pontiac",
   "metadata": {},
   "outputs": [],
   "source": [
    "rf = RandomForestClassifier(n_estimators=100)\n",
    "rf.fit(X_train,y_train)\n",
    "pred_rf = rf.predict(X_test)"
   ]
  },
  {
   "cell_type": "code",
   "execution_count": 14,
   "id": "unique-danish",
   "metadata": {},
   "outputs": [
    {
     "name": "stdout",
     "output_type": "stream",
     "text": [
      "              precision    recall  f1-score   support\n",
      "\n",
      "           3       0.98      1.00      0.99       571\n",
      "           4       0.96      0.97      0.97       550\n",
      "           5       0.81      0.82      0.81       560\n",
      "           6       0.78      0.63      0.70       573\n",
      "           7       0.81      0.92      0.86       540\n",
      "           8       0.96      0.98      0.97       609\n",
      "           9       1.00      1.00      1.00       565\n",
      "\n",
      "    accuracy                           0.90      3968\n",
      "   macro avg       0.90      0.90      0.90      3968\n",
      "weighted avg       0.90      0.90      0.90      3968\n",
      "\n"
     ]
    }
   ],
   "source": [
    "print(classification_report(y_test, pred_rf))"
   ]
  },
  {
   "cell_type": "markdown",
   "id": "narrow-segment",
   "metadata": {},
   "source": [
    "#### Stacking Classifier"
   ]
  },
  {
   "cell_type": "code",
   "execution_count": 15,
   "id": "concrete-watershed",
   "metadata": {},
   "outputs": [],
   "source": [
    "clf1 = KNeighborsClassifier(n_neighbors=2)\n",
    "clf2 = RandomForestClassifier(n_estimators = 100) \n",
    "clf3 = DecisionTreeClassifier(random_state=42)"
   ]
  },
  {
   "cell_type": "code",
   "execution_count": 16,
   "id": "interesting-safety",
   "metadata": {
    "scrolled": true
   },
   "outputs": [],
   "source": [
    "estimators = [\n",
    "    ('KNN', clf1),\n",
    "    ('Random_forest', clf2),\n",
    "    ('Decision Tree', clf3)\n",
    "]\n",
    "\n",
    "st = StackingClassifier(estimators = estimators, final_estimator=LogisticRegression())\n",
    "st.fit(X_train, y_train)\n",
    "pred_st = st.predict(X_test)"
   ]
  },
  {
   "cell_type": "code",
   "execution_count": 17,
   "id": "exposed-auckland",
   "metadata": {},
   "outputs": [
    {
     "name": "stdout",
     "output_type": "stream",
     "text": [
      "              precision    recall  f1-score   support\n",
      "\n",
      "           3       1.00      1.00      1.00       571\n",
      "           4       0.97      0.99      0.98       550\n",
      "           5       0.85      0.85      0.85       560\n",
      "           6       0.79      0.73      0.76       573\n",
      "           7       0.87      0.91      0.89       540\n",
      "           8       0.98      0.99      0.98       609\n",
      "           9       1.00      1.00      1.00       565\n",
      "\n",
      "    accuracy                           0.92      3968\n",
      "   macro avg       0.92      0.92      0.92      3968\n",
      "weighted avg       0.92      0.92      0.92      3968\n",
      "\n"
     ]
    }
   ],
   "source": [
    "print(classification_report(y_test, pred_st))"
   ]
  },
  {
   "cell_type": "markdown",
   "id": "portuguese-precipitation",
   "metadata": {},
   "source": [
    "# 4. Оценка"
   ]
  },
  {
   "cell_type": "code",
   "execution_count": 18,
   "id": "widespread-coverage",
   "metadata": {},
   "outputs": [],
   "source": [
    "lr_acc = accuracy_score(y_test, y_pred_lr)\n",
    "dt_acc = accuracy_score(y_test, pred_dt)\n",
    "rf_acc = accuracy_score(y_test, pred_rf)\n",
    "st_acc = accuracy_score(y_test, pred_st)"
   ]
  },
  {
   "cell_type": "code",
   "execution_count": 19,
   "id": "massive-electricity",
   "metadata": {},
   "outputs": [],
   "source": [
    "models = pd.DataFrame({\n",
    "    'Model': ['Logistic Regression', 'Decision Tree Classifier', \n",
    "              'Random Forest Classifier', 'Stacking Classifier'],\n",
    "    'Accuracy': [lr_acc, dt_acc, rf_acc, st_acc]})"
   ]
  },
  {
   "cell_type": "code",
   "execution_count": 20,
   "id": "documented-reporter",
   "metadata": {},
   "outputs": [
    {
     "data": {
      "text/html": [
       "<div>\n",
       "<style scoped>\n",
       "    .dataframe tbody tr th:only-of-type {\n",
       "        vertical-align: middle;\n",
       "    }\n",
       "\n",
       "    .dataframe tbody tr th {\n",
       "        vertical-align: top;\n",
       "    }\n",
       "\n",
       "    .dataframe thead th {\n",
       "        text-align: right;\n",
       "    }\n",
       "</style>\n",
       "<table border=\"1\" class=\"dataframe\">\n",
       "  <thead>\n",
       "    <tr style=\"text-align: right;\">\n",
       "      <th></th>\n",
       "      <th>Model</th>\n",
       "      <th>Accuracy</th>\n",
       "    </tr>\n",
       "  </thead>\n",
       "  <tbody>\n",
       "    <tr>\n",
       "      <th>3</th>\n",
       "      <td>Stacking Classifier</td>\n",
       "      <td>0.924647</td>\n",
       "    </tr>\n",
       "    <tr>\n",
       "      <th>2</th>\n",
       "      <td>Random Forest Classifier</td>\n",
       "      <td>0.902470</td>\n",
       "    </tr>\n",
       "    <tr>\n",
       "      <th>1</th>\n",
       "      <td>Decision Tree Classifier</td>\n",
       "      <td>0.833921</td>\n",
       "    </tr>\n",
       "    <tr>\n",
       "      <th>0</th>\n",
       "      <td>Logistic Regression</td>\n",
       "      <td>0.484123</td>\n",
       "    </tr>\n",
       "  </tbody>\n",
       "</table>\n",
       "</div>"
      ],
      "text/plain": [
       "                      Model  Accuracy\n",
       "3       Stacking Classifier  0.924647\n",
       "2  Random Forest Classifier  0.902470\n",
       "1  Decision Tree Classifier  0.833921\n",
       "0       Logistic Regression  0.484123"
      ]
     },
     "execution_count": 20,
     "metadata": {},
     "output_type": "execute_result"
    }
   ],
   "source": [
    "# show all the models \n",
    "models.sort_values(by='Accuracy', ascending=False)"
   ]
  },
  {
   "cell_type": "code",
   "execution_count": 21,
   "id": "victorian-developer",
   "metadata": {},
   "outputs": [
    {
     "data": {
      "image/png": "[encoded data removed]",
      "text/plain": [
       "<Figure size 720x432 with 1 Axes>"
      ]
     },
     "metadata": {
      "needs_background": "light"
     },
     "output_type": "display_data"
    }
   ],
   "source": [
    "\n",
    "plt.figure(figsize=(10,6))\n",
    "sns.barplot(x='Model',y='Accuracy',data=models)\n",
    "plt.show()"
   ]
  },
  {
   "cell_type": "markdown",
   "id": "challenging-security",
   "metadata": {},
   "source": [
    "# 5. Сохранение моделей"
   ]
  },
  {
   "cell_type": "code",
   "execution_count": 26,
   "id": "literary-dollar",
   "metadata": {},
   "outputs": [],
   "source": [
    "save_model(lr, 'lr_model')"
   ]
  },
  {
   "cell_type": "code",
   "execution_count": 23,
   "id": "sealed-basket",
   "metadata": {},
   "outputs": [],
   "source": [
    "save_model(dt, 'dt_model')"
   ]
  },
  {
   "cell_type": "code",
   "execution_count": 24,
   "id": "opened-salad",
   "metadata": {},
   "outputs": [],
   "source": [
    "save_model(rf, 'rf_model')"
   ]
  },
  {
   "cell_type": "code",
   "execution_count": 25,
   "id": "forward-lease",
   "metadata": {},
   "outputs": [],
   "source": [
    "save_model(st, 'st_model')"
   ]
  },
  {
   "cell_type": "code",
   "execution_count": null,
   "id": "victorian-green",
   "metadata": {},
   "outputs": [],
   "source": []
  }
 ],
 "metadata": {
  "kernelspec": {
   "display_name": "Python 3",
   "language": "python",
   "name": "python3"
  },
  "language_info": {
   "codemirror_mode": {
    "name": "ipython",
    "version": 3
   },
   "file_extension": ".py",
   "mimetype": "text/x-python",
   "name": "python",
   "nbconvert_exporter": "python",
   "pygments_lexer": "ipython3",
   "version": "3.7.8"
  }
 },
 "nbformat": 4,
 "nbformat_minor": 5
}
